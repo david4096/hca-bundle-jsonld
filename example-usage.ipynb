{
 "cells": [
  {
   "cell_type": "markdown",
   "metadata": {},
   "source": [
    "# Human Cell Atlas SPARQL"
   ]
  },
  {
   "cell_type": "markdown",
   "metadata": {},
   "source": [
    "## Download/Start blazegraph store"
   ]
  },
  {
   "cell_type": "markdown",
   "metadata": {},
   "source": [
    "Get the graph store from https://www.blazegraph.com/download/. Save the jar to the directory containing this notebook.\n",
    "\n",
    "You can then start the graph store in a terminal using the command below."
   ]
  },
  {
   "cell_type": "code",
   "execution_count": 11,
   "metadata": {},
   "outputs": [],
   "source": [
    "#java -server -Xmx4g -jar blazegraph.jar"
   ]
  },
  {
   "cell_type": "markdown",
   "metadata": {},
   "source": [
    "## Add some ontologies to graph store"
   ]
  },
  {
   "cell_type": "markdown",
   "metadata": {},
   "source": [
    "Which minimum ontologies are needed to work with the metadata? What are the risks of adding more ontologies to the store?"
   ]
  },
  {
   "cell_type": "code",
   "execution_count": 7,
   "metadata": {},
   "outputs": [],
   "source": [
    "from pymantic import sparql\n",
    "import os \n",
    "\n",
    "server = sparql.SPARQLServer('http://127.0.0.1:9999/blazegraph/sparql')\n",
    "dir_path = os.getcwd() # We need the absolute path to load local files into the store"
   ]
  },
  {
   "cell_type": "code",
   "execution_count": 9,
   "metadata": {},
   "outputs": [
    {
     "name": "stdout",
     "output_type": "stream",
     "text": [
      "--2018-03-21 21:21:52--  http://www.ebi.ac.uk/efo/efo.owl\n",
      "Resolving www.ebi.ac.uk (www.ebi.ac.uk)... 193.62.193.80\n",
      "Connecting to www.ebi.ac.uk (www.ebi.ac.uk)|193.62.193.80|:80... connected.\n",
      "HTTP request sent, awaiting response... 301 Moved Permanently\n",
      "Location: https://www.ebi.ac.uk/efo/efo.owl [following]\n",
      "--2018-03-21 21:21:53--  https://www.ebi.ac.uk/efo/efo.owl\n",
      "Connecting to www.ebi.ac.uk (www.ebi.ac.uk)|193.62.193.80|:443... connected.\n",
      "HTTP request sent, awaiting response... 200 OK\n",
      "Length: 54055133 (52M)\n",
      "Saving to: ‘efo.owl’\n",
      "\n",
      "efo.owl             100%[===================>]  51.55M  7.98MB/s    in 14s     \n",
      "\n",
      "2018-03-21 21:22:08 (3.65 MB/s) - ‘efo.owl’ saved [54055133/54055133]\n",
      "\n",
      "('s:', u'http://purl.obolibrary.org/obo/BTO_0000551')\n",
      "('o:', {u'type': u'literal', u'value': u'Cancer cell of the major organ of respiration the lung.'})\n",
      "('p:', {u'type': u'uri', u'value': u'http://purl.obolibrary.org/obo/IAO_0000115'})\n"
     ]
    }
   ],
   "source": [
    "\n",
    "# Download the EFO OWL\n",
    "\n",
    "!wget http://www.ebi.ac.uk/efo/efo.owl -O efo.owl\n",
    "\n",
    "\n",
    "# Load the OWL to the graph store\n",
    "server.update(\"load <file://{}/{}>\".format(dir_path, \"efo.owl\"))\n",
    "\n",
    "# Executing query to show we have successfully added some triplets\n",
    "result = server.query('select * where {?s ?p ?o }')\n",
    "for b in result['results']['bindings']:\n",
    "    print('s:', b['s']['value'])\n",
    "    print('o:', b['o'])\n",
    "    print('p:', b['p'])\n",
    "    break"
   ]
  },
  {
   "cell_type": "code",
   "execution_count": 25,
   "metadata": {},
   "outputs": [],
   "source": [
    "# load other ontologies?\n"
   ]
  },
  {
   "cell_type": "markdown",
   "metadata": {},
   "source": [
    "## Download some existing metadata examples"
   ]
  },
  {
   "cell_type": "markdown",
   "metadata": {},
   "source": [
    "https://github.com/HumanCellAtlas/metadata-schema/blob/master/examples/bundles/v5/GlioblastomaSS2/quakeGlioblastoma1_biomaterial_bundle_0.json"
   ]
  },
  {
   "cell_type": "markdown",
   "metadata": {},
   "source": [
    "We'll get a bundle from the DSS."
   ]
  },
  {
   "cell_type": "code",
   "execution_count": 17,
   "metadata": {},
   "outputs": [
    {
     "name": "stdout",
     "output_type": "stream",
     "text": [
      "4be0071d-b36e-4414-a7ee-7b879f60be7c\n"
     ]
    }
   ],
   "source": [
    "import requests\n",
    "DSS_URL = \"https://dss.dev.data.humancellatlas.org/v1\"\n",
    "bundle_uuid = \"4be0071d-b36e-4414-a7ee-7b879f60be7c\"\n",
    "r = requests.get(\"{}/bundles/{}?replica=aws\".format(DSS_URL, bundle_uuid))\n",
    "bundle = r.json()\n",
    "print(bundle['bundle']['uuid'])"
   ]
  },
  {
   "cell_type": "markdown",
   "metadata": {},
   "source": [
    "## Modify the metadata to provide JSON-LD @context"
   ]
  },
  {
   "cell_type": "markdown",
   "metadata": {},
   "source": [
    "Perhaps flatten the resulting files or bundle JSON? http://json-ld.org/spec/latest/json-ld/#flattened-document-form"
   ]
  },
  {
   "cell_type": "code",
   "execution_count": 18,
   "metadata": {},
   "outputs": [
    {
     "name": "stdout",
     "output_type": "stream",
     "text": [
      "application/json; dcp-type=\"metadata/project\"\n",
      "application/json; dcp-type=\"metadata/biomaterial\"\n",
      "application/json; dcp-type=\"metadata/file\"\n",
      "application/json; dcp-type=\"metadata/process\"\n",
      "application/json; dcp-type=\"metadata/protocol\"\n",
      "application/json; dcp-type=\"metadata/links\"\n",
      "Wrote file: 4be0071d-b36e-4414-a7ee-7b879f60be7c.ttl\n",
      "4be0071d-b36e-4414-a7ee-7b879f60be7c.ttl\n"
     ]
    }
   ],
   "source": [
    "import bundle_to_rdf\n",
    "file_name = bundle_to_rdf.bundle_to_rdf(bundle)\n",
    "print(file_name)"
   ]
  },
  {
   "cell_type": "markdown",
   "metadata": {},
   "source": [
    "## Load RDF into Graph Store"
   ]
  },
  {
   "cell_type": "code",
   "execution_count": 19,
   "metadata": {},
   "outputs": [
    {
     "data": {
      "text/plain": [
       "({'content-length': '452',\n",
       "  'content-type': 'text/html; charset=UTF-8',\n",
       "  'server': 'Jetty(9.2.z-SNAPSHOT)',\n",
       "  'status': '200'},\n",
       " '<!DOCTYPE HTML PUBLIC \"-//W3C//DTD HTML 4.01 Transitional//EN\" \"http://www.w3.org/TR/html4/loose.dtd\"><html><head><meta http-equiv=\"Content-Type\" content=\"text&#47;html;charset=UTF-8\"><title>blazegraph&trade; by SYSTAP</title\\n></head\\n><body<p>totalElapsed=7ms, elapsed=7ms, connFlush=0ms, batchResolve=0, whereClause=0ms, deleteClause=0ms, insertClause=0ms</p\\n><hr><p>COMMIT: totalElapsed=106ms, commitTime=1521702165291, mutationCount=222</p\\n></html\\n>')"
      ]
     },
     "execution_count": 19,
     "metadata": {},
     "output_type": "execute_result"
    }
   ],
   "source": [
    "server.update(\"load <file://{}/{}>\".format(dir_path, file_name))"
   ]
  },
  {
   "cell_type": "markdown",
   "metadata": {},
   "source": [
    "## Demonstrate getting back bundle data"
   ]
  },
  {
   "cell_type": "code",
   "execution_count": 20,
   "metadata": {},
   "outputs": [
    {
     "name": "stdout",
     "output_type": "stream",
     "text": [
      "[{u'uberon': {u'type': u'uri', u'value': u'http://purl.obolibrary.org/obo/UBERON_0000955'}, u'tissue': {u'type': u'literal', u'value': u'brain'}, u'bioid': {u'type': u'literal', u'value': u'GSM2243439'}, u'name': {u'type': u'literal', u'value': u'Single cell from Tumor,1001000173.G8'}}]\n"
     ]
    }
   ],
   "source": [
    "query = \"\"\"# Get organ type for bundles\n",
    "\n",
    "PREFIX hca:<http://rdf.data.humancellatlas.org/>\n",
    "PREFIX bundle:<https://schema.humancellatlas.org/bundle/5.1.0/>\n",
    "\n",
    "SELECT distinct ?bioid ?name ?tissue ?uberon WHERE {\n",
    "  ?bundle a bundle:biomaterial ;\n",
    "          hca:biomaterials\n",
    "            [hca:content\n",
    "             [hca:organ\n",
    "               [hca:text ?tissue ;\n",
    "                 hca:ontology ?uberon]]] .\n",
    "  ?bundle a bundle:biomaterial ;\n",
    "          hca:biomaterials\n",
    "            [hca:content\n",
    "              [hca:biomaterial_core\n",
    "               [hca:biomaterial_id ?bioid ; hca:biomaterial_name ?name]]]\n",
    "\n",
    "}\n",
    "\n",
    "\"\"\"\n",
    "result = server.query(query)\n",
    "print(result['results']['bindings'])"
   ]
  },
  {
   "cell_type": "markdown",
   "metadata": {},
   "source": [
    "## Use ontological reasoning to verify tissue location"
   ]
  },
  {
   "cell_type": "markdown",
   "metadata": {},
   "source": [
    "Tissue sites and organs are hierarchically related. Use the ontology to answer the question of whether the local tissue location is part of the organ, or to discover the possible \"facets\" for a given organ."
   ]
  },
  {
   "cell_type": "code",
   "execution_count": null,
   "metadata": {},
   "outputs": [],
   "source": []
  },
  {
   "cell_type": "markdown",
   "metadata": {},
   "source": [
    "## Render into a pageable table"
   ]
  },
  {
   "cell_type": "markdown",
   "metadata": {},
   "source": [
    "A table that shows a selected set of attributes for files in the store."
   ]
  },
  {
   "cell_type": "code",
   "execution_count": null,
   "metadata": {},
   "outputs": [],
   "source": []
  },
  {
   "cell_type": "markdown",
   "metadata": {},
   "source": [
    "## Move above process to a lambda"
   ]
  },
  {
   "cell_type": "markdown",
   "metadata": {},
   "source": [
    "With a standing graph service, set up a lambda that indexes the bundles into a graph store. The pattern follows the [dss-azul-indexer](https://github.com/BD2KGenomics/dss-azul-indexer), which subscribes to the blue box for changes."
   ]
  },
  {
   "cell_type": "code",
   "execution_count": null,
   "metadata": {},
   "outputs": [],
   "source": []
  }
 ],
 "metadata": {
  "kernelspec": {
   "display_name": "Python 2",
   "language": "python",
   "name": "python2"
  },
  "language_info": {
   "codemirror_mode": {
    "name": "ipython",
    "version": 2
   },
   "file_extension": ".py",
   "mimetype": "text/x-python",
   "name": "python",
   "nbconvert_exporter": "python",
   "pygments_lexer": "ipython2",
   "version": "2.7.12+"
  }
 },
 "nbformat": 4,
 "nbformat_minor": 2
}
